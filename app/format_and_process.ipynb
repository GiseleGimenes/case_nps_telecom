{
 "cells": [
  {
   "metadata": {},
   "cell_type": "markdown",
   "source": [
    "# Guia Rápido: Tratamento de Dados para Análise - Case NPS Algar Telecom\n",
    "\n",
    "Bem-vindo! Vamos te mostrar de forma simples e direta como preparamos os dados do Case NPS Algar Telecom para uma análise mais eficiente no Power BI. Aqui está o passo a passo do que fizemos:\n",
    "\n",
    "## Carregando os Dados\n",
    "\n",
    "Primeiro, puxamos os dados do Excel. Sem mistério, apenas carregamos o arquivo para começar a trabalhar.\n",
    "\n",
    "## Organizando com uma Chave Primária\n",
    "\n",
    "Para facilitar a organização, criamos uma coluna `ID` que funciona como uma chave primária. Isso garante que cada linha seja única e bem identificada.\n",
    "\n",
    "## Limpando o Texto\n",
    "\n",
    "Alguns textos podem vir com problemas de codificação ou caracteres estranhos. Usamos uma ferramenta chamada `ftfy` para deixar tudo nos conformes. Isso foi aplicado em algumas colunas específicas que precisavam de um retoque.\n",
    "\n",
    "## Formatando Datas\n",
    "\n",
    "Datas são essenciais para análises temporais, então fizemos o seguinte:\n",
    "- Convertido as datas para strings.\n",
    "- Mantivemos apenas a parte da data (ano, mês e dia), ignorando a hora.\n",
    "- Transformamos essas datas no formato `yyyy-mm-dd` para serem facilmente reconhecidas como datas no Power BI.\n",
    "\n",
    "## Exportando o Resultado\n",
    "\n",
    "Depois de tudo pronto, exportamos o DataFrame tratado para um arquivo CSV. Agora, ele está pronto para ser importado no Power BI e começar a análise.\n",
    "\n",
    "Pronto! Agora seus dados estão organizados e preparados para uma análise poderosa no Power BI.\n"
   ],
   "id": "ed98621ef2d291c4"
  },
  {
   "metadata": {
    "ExecuteTime": {
     "end_time": "2024-08-21T10:15:58.318517Z",
     "start_time": "2024-08-21T10:15:23.547318Z"
    }
   },
   "cell_type": "code",
   "source": [
    "import pandas as pd\n",
    "import ftfy\n",
    "# import re\n",
    "\n",
    "# Load the data from the Excel file\n",
    "df = pd.read_excel('..\\\\data\\\\Case NPS - Algar Telecom.xlsx', sheet_name='Base dados')\n",
    "\n",
    "# Add a primary key column called 'ID'\n",
    "df['ID'] = range(1, len(df) + 1)\n",
    "\n",
    "# Move the 'ID' column to be the first column in the DataFrame\n",
    "columns = ['ID'] + [col for col in df.columns if col != 'ID']\n",
    "df = df[columns]\n",
    "\n",
    "# Check the text before applying fixes - this index was randomly selected\n",
    "print('Product bad text example: ' + df['produto'][9])  # Display the original text in the 'produto' column at index 9\n",
    "print('Origem voz bad text example: ' + df['origem_voz'][110178])  # Display the original text in the 'origem_voz' column at index 110178\n",
    "\n",
    "# List of columns that need text correction\n",
    "columns_to_fix_text = ['origem_voz', 'produto', 'regional', 'comentario', 'classificacao', 'classificacao_n2']\n",
    "\n",
    "# Function to fix text issues using ftfy\n",
    "def fix_text(df_series):\n",
    "    return df_series.apply(lambda x: ftfy.fix_text(x) if isinstance(x, str) else x)\n",
    "\n",
    "# Apply the text correction function to each specified column\n",
    "for column in columns_to_fix_text:\n",
    "    df[column] = fix_text(df[column])\n",
    "\n",
    "# Check the text after applying fixes\n",
    "print('Product fixed text example: ' + df['produto'][9])  # Display the corrected text in the 'produto' column at index 9\n",
    "print('Origem voz fixed text example: ' + df['origem_voz'][110178])  # Display the corrected text in the 'origem_voz' column at index 110178\n",
    "\n",
    "# Convert the 'data_voz' column to string to facilitate length filtering\n",
    "df['data_voz'] = df['data_voz'].astype(str)\n",
    "\n",
    "# Create a new column 'len_data_voz' to store the length of each string in 'data_voz'\n",
    "df['len_data_voz'] = df['data_voz'].apply(len)\n",
    "\n",
    "# Format 'data_voz' to 'yyyy-mm-dd' if it's 8 characters long and numeric\n",
    "df['data_voz'] = df['data_voz'].apply(lambda x: f\"{x[:4]}-{x[4:6]}-{x[6:]}\" if len(x) == 8 and x.isdigit() else x)\n",
    "\n",
    "# Remove any time component, keeping only the date\n",
    "df['data_voz'] = df['data_voz'].str[:10]\n",
    "\n",
    "# Convert 'data_voz' to datetime, handling errors by coercing invalid dates to NaT\n",
    "df['data_voz'] = pd.to_datetime(df['data_voz'], errors='coerce')\n",
    "\n",
    "# Count the number of NaT (Not a Time) values in 'data_voz'\n",
    "num_NaT = df['data_voz'].isna().sum()\n",
    "print(f\"Errors Quantity after date transform: {num_NaT}\")\n",
    "\n",
    "# Export the cleaned DataFrame to a CSV file, using '|' as a separator\n",
    "df.to_csv('export_telecom_case_formatted.csv', index=False, sep='|')\n"
   ],
   "id": "de0956d4fda18bde",
   "outputs": [
    {
     "name": "stdout",
     "output_type": "stream",
     "text": [
      "Product bad text example: BANDA LARGA EXP SOLUÃƒÂ‡ÃƒÂ•ES - CONVENCIONAL - 100 MB\n",
      "Origem voz bad text example: Jornada AquisiÃ§Ã£o Varejo\n",
      "Product fixed text example: BANDA LARGA EXP SOLUÇÕES - CONVENCIONAL - 100 MB\n",
      "Origem voz fixed text example: Jornada Aquisição Varejo\n",
      "Errors Quantity after date transform: 0\n"
     ]
    }
   ],
   "execution_count": 2
  },
  {
   "metadata": {},
   "cell_type": "code",
   "outputs": [],
   "execution_count": null,
   "source": "",
   "id": "cf2c93c82e6cdf81"
  }
 ],
 "metadata": {
  "kernelspec": {
   "display_name": "Python 3 (ipykernel)",
   "language": "python",
   "name": "python3"
  },
  "language_info": {
   "codemirror_mode": {
    "name": "ipython",
    "version": 3
   },
   "file_extension": ".py",
   "mimetype": "text/x-python",
   "name": "python",
   "nbconvert_exporter": "python",
   "pygments_lexer": "ipython3",
   "version": "3.12.5"
  }
 },
 "nbformat": 4,
 "nbformat_minor": 5
}
